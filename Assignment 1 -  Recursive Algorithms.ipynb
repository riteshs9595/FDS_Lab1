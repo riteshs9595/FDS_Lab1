{
 "cells": [
  {
   "cell_type": "markdown",
   "metadata": {},
   "source": [
    "## 1. Find kth even integers."
   ]
  },
  {
   "cell_type": "code",
   "execution_count": 15,
   "metadata": {},
   "outputs": [
    {
     "name": "stdout",
     "output_type": "stream",
     "text": [
      "Enter the starting values of range: 1\n",
      "Enter the endign values of range:20\n",
      "Your list is: [1, 2, 3, 4, 5, 6, 7, 8, 9, 10, 11, 12, 13, 14, 15, 16, 17, 18, 19, 20]\n",
      "Even number in the list: [2, 4, 6, 8, 10, 12, 14, 16, 18, 20]\n"
     ]
    }
   ],
   "source": [
    "start=int(input(\"Enter the starting values of range: \"))\n",
    "end=int(input(\"Enter the endign values of range:\"))\n",
    "list1=list(range(start,end+1))\n",
    "print(\"Your list is:\",list1)\n",
    "even=(list(filter(lambda x:(x%2==0),list1)))\n",
    "print(\"Even number in the list:\",even)"
   ]
  },
  {
   "cell_type": "markdown",
   "metadata": {},
   "source": [
    "## 2.Sum the series 1+2+3+…+n."
   ]
  },
  {
   "cell_type": "code",
   "execution_count": 23,
   "metadata": {},
   "outputs": [
    {
     "name": "stdout",
     "output_type": "stream",
     "text": [
      "Enter the range of number:11\n",
      "The sum of the series =  66\n"
     ]
    }
   ],
   "source": [
    "n=int(input(\"Enter the range of number:\"))\n",
    "sum=0\n",
    "for i in range(1,n+1):\n",
    "    sum+=i\n",
    "print(\"The sum of the series = \",sum)"
   ]
  },
  {
   "cell_type": "markdown",
   "metadata": {},
   "source": [
    "## 3.Find kth power of an integer number n."
   ]
  },
  {
   "cell_type": "code",
   "execution_count": 7,
   "metadata": {},
   "outputs": [
    {
     "name": "stdout",
     "output_type": "stream",
     "text": [
      " Please Enter any Positive Integer : 2\n",
      " Please Enter Exponent Value : 2\n",
      "The Result of 2 Power 2 = 4\n"
     ]
    }
   ],
   "source": [
    "number = int(input(\" Please Enter any Positive Integer : \"))\n",
    "exponent = int(input(\" Please Enter Exponent Value : \"))\n",
    "\n",
    "power = 1\n",
    "i = 1\n",
    "\n",
    "while(i <= exponent):\n",
    "    power = power * number\n",
    "    i = i + 1\n",
    "    \n",
    "print(\"The Result of {0} Power {1} = {2}\".format(number, exponent, power))"
   ]
  },
  {
   "cell_type": "markdown",
   "metadata": {},
   "source": [
    "## 4.Find Minimum and maximum of the given array."
   ]
  },
  {
   "cell_type": "code",
   "execution_count": 8,
   "metadata": {},
   "outputs": [
    {
     "name": "stdout",
     "output_type": "stream",
     "text": [
      "Enter the size of the List ::5\n",
      "Enter the Element ::\n",
      "1\n",
      "2\n",
      "3\n",
      "4\n",
      "5\n",
      "The maximum is at position:: 5\n",
      "The minimum is at position:: 1\n"
     ]
    }
   ],
   "source": [
    "def maxminposition(A, n):\n",
    "   # inbuilt function to find the position of minimum \n",
    "   minposition = A.index(min(A))\n",
    "   # inbuilt function to find the position of maximum \n",
    "   maxposition = A.index(max(A)) \n",
    "   print (\"The maximum is at position::\", maxposition + 1) \n",
    "   print (\"The minimum is at position::\", minposition + 1)\n",
    "\n",
    "A=list()\n",
    "n=int(input(\"Enter the size of the List ::\"))\n",
    "print(\"Enter the Element ::\")\n",
    "for i in range(int(n)):\n",
    "   k=int(input(\"\"))\n",
    "   A.append(k)\n",
    "maxminposition(A,n)"
   ]
  },
  {
   "cell_type": "markdown",
   "metadata": {},
   "source": [
    "## 5.Display the Fibonacci series upto given integer number."
   ]
  },
  {
   "cell_type": "code",
   "execution_count": 9,
   "metadata": {},
   "outputs": [
    {
     "name": "stdout",
     "output_type": "stream",
     "text": [
      "How many terms? 9\n",
      "Fibonacci sequence:\n",
      "0\n",
      "1\n",
      "1\n",
      "2\n",
      "3\n",
      "5\n",
      "8\n",
      "13\n",
      "21\n"
     ]
    }
   ],
   "source": [
    "nterms = int(input(\"How many terms? \"))\n",
    "n1, n2 = 0, 1\n",
    "count = 0\n",
    "if nterms <= 0:\n",
    "   print(\"Please enter a positive integer\")\n",
    "elif nterms == 1:\n",
    "   print(\"Fibonacci sequence upto\",nterms,\":\")\n",
    "   print(n1)\n",
    "else:\n",
    "   print(\"Fibonacci sequence:\")\n",
    "   while count < nterms:\n",
    "       print(n1)\n",
    "       nth = n1 + n2\n",
    "       # update values\n",
    "       n1 = n2\n",
    "       n2 = nth\n",
    "       count += 1"
   ]
  },
  {
   "cell_type": "markdown",
   "metadata": {},
   "source": [
    "## 6.Search an element into given array using following methods:\n",
    "- (Explain method also)\n",
    "#### Sequential / Linear Search\n",
    "- This is the simplest searching technique.\n",
    "- It sequentially checks each element of the list for the target searching value until a match is found or until all the elements have been searched.\n",
    "- This searching technique can be performed on both type of list, either the list is sorted or unsorted.\n",
    "##### Implement Linear search following the below steps:\n",
    "-  Start the search from the first element and Check key = n with each element of list x.\n",
    "- If element is found, return the index position of the key.\n",
    "- If element is not found, return element is not present.\n",
    "#### Binary Search\n",
    "- Binary Search is applied on the sorted array or list of large size. It’s time complexity of O(log n) makes it very fast as compared to other sorting algorithms. To use binary search on a collection, the collection must first be sorted.\n",
    "##### Implement binary search following the below steps:\n",
    "- Start with the middle element of the given list:\n",
    "- If the target value is equal to the middle element of the array, then return the index of the middle element.\n",
    "- Otherwise, compare the middle element with the target value,\n",
    "- If the target value is greater than the number in the middle index, then pick the elements to the right of the middle index, and start with Step 1.\n",
    "- If the target value is less than the number in the middle index, then pick the elements to the left of the middle index, and start with Step 1.\n",
    "- If a match is found, return the index of the element matched.\n",
    "- Otherwise, return -1."
   ]
  },
  {
   "cell_type": "markdown",
   "metadata": {},
   "source": [
    "### Linear Search"
   ]
  },
  {
   "cell_type": "code",
   "execution_count": 21,
   "metadata": {},
   "outputs": [
    {
     "name": "stdout",
     "output_type": "stream",
     "text": [
      "Found at  4\n"
     ]
    }
   ],
   "source": [
    "pos = -1\n",
    "def search(list,n):\n",
    "    i = 0\n",
    "    while i<len(list):\n",
    "      if list[i] == n:\n",
    "        globals()['pos'] = i\n",
    "        return True\n",
    "      i = i + 1\n",
    "    return False\n",
    "list = [5,8,4,6,9,2]\n",
    "n = 6\n",
    "if search(list,n):\n",
    "   print(\"Found at \",pos+1)\n",
    "else:\n",
    "   print(\"Not Found\")"
   ]
  },
  {
   "cell_type": "markdown",
   "metadata": {},
   "source": [
    "### Binary Search"
   ]
  },
  {
   "cell_type": "code",
   "execution_count": 18,
   "metadata": {},
   "outputs": [
    {
     "name": "stdout",
     "output_type": "stream",
     "text": [
      "Element is present at index 4\n"
     ]
    }
   ],
   "source": [
    "def binary_search(list1, n):  \n",
    "    low = 0  \n",
    "    high = len(list1) - 1  \n",
    "    mid = 0  \n",
    "  \n",
    "    while low <= high:  \n",
    "        # for get integer result   \n",
    "        mid = (high + low) // 2  \n",
    "  \n",
    "        # Check if n is present at mid   \n",
    "        if list1[mid] < n:  \n",
    "            low = mid + 1  \n",
    "  \n",
    "        # If n is greater, compare to the right of mid   \n",
    "        elif list1[mid] > n:  \n",
    "            high = mid - 1  \n",
    "  \n",
    "        # If n is smaller, compared to the left of mid  \n",
    "        else:  \n",
    "            return mid  \n",
    "  \n",
    "            # element was not present in the list, return -1  \n",
    "    return -1  \n",
    "  \n",
    "  \n",
    "# Initial list1  \n",
    "list1 = [12, 24, 32, 39, 45, 50, 54]  \n",
    "n = 45  \n",
    "  \n",
    "# Function call   \n",
    "result = binary_search(list1, n)  \n",
    "  \n",
    "if result != -1:  \n",
    "    print(\"Element is present at index\", str(result))  \n",
    "else:  \n",
    "    print(\"Element is not present in list1\")  "
   ]
  },
  {
   "cell_type": "markdown",
   "metadata": {},
   "source": [
    "## 7.      Sort the elements of an array using following methods:\n",
    "- (Explain method also)\n",
    "- Selection Sort\n",
    "- Merge Sort\n",
    "- Quick Sort\n"
   ]
  },
  {
   "cell_type": "markdown",
   "metadata": {},
   "source": [
    "### Selection sort\n",
    "- The selection sort algorithm sorts an array by repeatedly finding the minimum element (considering ascending order) from unsorted part and putting it at the beginning. The algorithm maintains two subarrays in a given array.\n",
    "-  The subarray which is already sorted.\n",
    "- Remaining subarray which is unsorted.\n",
    "- In every iteration of selection sort, the minimum element (considering ascending order) from the unsorted subarray is picked and moved to the sorted subarray."
   ]
  },
  {
   "cell_type": "code",
   "execution_count": 25,
   "metadata": {},
   "outputs": [
    {
     "name": "stdout",
     "output_type": "stream",
     "text": [
      "Sorted array\n",
      "11\n",
      "12\n",
      "22\n",
      "25\n",
      "64\n"
     ]
    }
   ],
   "source": [
    "A = [64, 25, 12, 22, 11] \n",
    "\n",
    "# Traverse through all array elements \n",
    "for i in range(len(A)): \n",
    "    min_idx = i \n",
    "    for j in range(i+1, len(A)): \n",
    "        if A[min_idx] > A[j]: \n",
    "            min_idx = j \n",
    "    A[i], A[min_idx] = A[min_idx], A[i]  \n",
    "print (\"Sorted array\") \n",
    "for i in range(len(A)): \n",
    "    print(\"%d\" %A[i]), \n"
   ]
  },
  {
   "cell_type": "markdown",
   "metadata": {},
   "source": [
    "### MergeSort\n",
    "- Merge Sort is a Divide and Conquer algorithm. \n",
    "- It divides input array in two halves, calls itself for the two halves and then merges the two sorted halves. \n",
    "- The merge() function is used for merging two halves. \n",
    "- The merge(arr, l, m, r) is key process that assumes that arr[l..m] and arr[m+1..r] are sorted and merges the two sorted sub-arrays into one."
   ]
  },
  {
   "cell_type": "code",
   "execution_count": 29,
   "metadata": {},
   "outputs": [
    {
     "name": "stdout",
     "output_type": "stream",
     "text": [
      "Given array is\n",
      "12\n",
      "11\n",
      "13\n",
      "5\n",
      "6\n",
      "7\n",
      "\n",
      "\n",
      "Sorted array is\n",
      "5\n",
      "6\n",
      "7\n",
      "11\n",
      "12\n",
      "13\n"
     ]
    }
   ],
   "source": [
    "# Python program for implementation of MergeSort \n",
    "\n",
    "# Merges two subarrays of arr[]. \n",
    "# First subarray is arr[l..m] \n",
    "# Second subarray is arr[m+1..r] \n",
    "def merge(arr, l, m, r): \n",
    "    n1 = m - l + 1\n",
    "    n2 = r- m \n",
    "    # create temp arrays \n",
    "    L = [0] * (n1) \n",
    "    R = [0] * (n2) \n",
    "\n",
    "# Copy data to temp arrays L[] and R[] \n",
    "    for i in range(0 , n1): \n",
    "        L[i] = arr[l + i] \n",
    "\n",
    "    for j in range(0 , n2): \n",
    "        R[j] = arr[m + 1 + j] \n",
    "\n",
    "# Merge the temp arrays back into arr[l..r] \n",
    "    i = 0 # Initial index of first subarray \n",
    "    j = 0 # Initial index of second subarray \n",
    "    k = l # Initial index of merged subarray \n",
    "\n",
    "    while i < n1 and j < n2 : \n",
    "        if L[i] <= R[j]: \n",
    "            arr[k] = L[i] \n",
    "            i += 1\n",
    "        else: \n",
    "            arr[k] = R[j] \n",
    "            j += 1\n",
    "        k += 1\n",
    "\n",
    "# Copy the remaining elements of L[], if there \n",
    "# are any \n",
    "    while i < n1: \n",
    "        arr[k] = L[i] \n",
    "        i += 1\n",
    "        k += 1\n",
    "\n",
    "# Copy the remaining elements of R[], if there \n",
    "# are any \n",
    "    while j < n2: \n",
    "        arr[k] = R[j] \n",
    "        j += 1\n",
    "        k += 1\n",
    "\n",
    "# l is for left index and r is right index of the \n",
    "# sub-array of arr to be sorted \n",
    "def mergeSort(arr,l,r): \n",
    "    if l < r: \n",
    "\n",
    "        # Same as (l+r)//2, but avoids overflow for \n",
    "        # large l and h \n",
    "        m = (l+(r-1))//2\n",
    "\n",
    "# Sort first and second halves \n",
    "        mergeSort(arr, l, m) \n",
    "        mergeSort(arr, m+1, r) \n",
    "        merge(arr, l, m, r) \n",
    "\n",
    "\n",
    "# Driver code to test above \n",
    "arr = [12, 11, 13, 5, 6, 7] \n",
    "n = len(arr) \n",
    "print (\"Given array is\") \n",
    "for i in range(n): \n",
    "    print (\"%d\" %arr[i]), \n",
    "\n",
    "mergeSort(arr,0,n-1) \n",
    "print (\"\\n\\nSorted array is\") \n",
    "for i in range(n): \n",
    "    print (\"%d\" %arr[i]) "
   ]
  },
  {
   "cell_type": "markdown",
   "metadata": {},
   "source": [
    "### Quick Sort\n",
    "- Like Merge Sort, QuickSort is a Divide and Conquer algorithm. It picks an element as pivot and partitions the given array around the picked pivot. There are many different versions of quickSort that pick pivot in different ways. \n",
    "- Always pick first element as pivot.\n",
    "- Always pick last element as pivot (implemented below)\n",
    "- Pick a random element as pivot.\n",
    "- Pick median as pivot."
   ]
  },
  {
   "cell_type": "code",
   "execution_count": 30,
   "metadata": {},
   "outputs": [
    {
     "name": "stdout",
     "output_type": "stream",
     "text": [
      "Sorted array is:\n",
      "1\n",
      "5\n",
      "7\n",
      "8\n",
      "9\n",
      "10\n"
     ]
    }
   ],
   "source": [
    "def partition(arr, low, high): \n",
    "    i = (low-1)# index of smaller element \n",
    "    pivot = arr[high] # pivot \n",
    "\n",
    "    for j in range(low, high): \n",
    "\n",
    "# If current element is smaller than or \n",
    "# equal to pivot \n",
    "        if arr[j] <= pivot: \n",
    "\n",
    "# increment index of smaller element \n",
    "            i = i+1\n",
    "            arr[i], arr[j] = arr[j], arr[i] \n",
    "\n",
    "    arr[i+1], arr[high] = arr[high], arr[i+1] \n",
    "    return (i+1) \n",
    "\n",
    "# The main function that implements QuickSort \n",
    "# arr[] --> Array to be sorted, \n",
    "# low --> Starting index, \n",
    "# high --> Ending index \n",
    "\n",
    "# Function to do Quick sort \n",
    "\n",
    "\n",
    "def quickSort(arr, low, high): \n",
    "    if len(arr) == 1: \n",
    "        return arr \n",
    "    if low < high: \n",
    "\n",
    "# pi is partitioning index, arr[p] is now \n",
    "# at right place \n",
    "        pi = partition(arr, low, high) \n",
    "\n",
    "# Separately sort elements before \n",
    "# partition and after partition \n",
    "        quickSort(arr, low, pi-1) \n",
    "        quickSort(arr, pi+1, high) \n",
    "\n",
    "\n",
    "# Driver code to test above \n",
    "arr = [10, 7, 8, 9, 1, 5] \n",
    "n = len(arr) \n",
    "quickSort(arr, 0, n-1) \n",
    "print(\"Sorted array is:\") \n",
    "for i in range(n): \n",
    "    print(\"%d\" % arr[i]), \n"
   ]
  },
  {
   "cell_type": "code",
   "execution_count": null,
   "metadata": {},
   "outputs": [],
   "source": []
  }
 ],
 "metadata": {
  "kernelspec": {
   "display_name": "Python 3",
   "language": "python",
   "name": "python3"
  },
  "language_info": {
   "codemirror_mode": {
    "name": "ipython",
    "version": 3
   },
   "file_extension": ".py",
   "mimetype": "text/x-python",
   "name": "python",
   "nbconvert_exporter": "python",
   "pygments_lexer": "ipython3",
   "version": "3.8.3"
  }
 },
 "nbformat": 4,
 "nbformat_minor": 4
}
